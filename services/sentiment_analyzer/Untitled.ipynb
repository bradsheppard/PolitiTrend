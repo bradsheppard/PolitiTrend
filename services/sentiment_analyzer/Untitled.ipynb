{
 "cells": [
  {
   "cell_type": "code",
   "execution_count": 66,
   "metadata": {
    "pycharm": {
     "is_executing": false
    }
   },
   "outputs": [],
   "source": [
    "import pandas as pd\n",
    "from tensorflow.keras.models import Sequential\n",
    "from tensorflow.keras.layers import Dense, Embedding, LSTM, CuDNNLSTM, CuDNNGRU, Dropout, Bidirectional\n",
    "from tensorflow.keras.preprocessing.text import Tokenizer\n",
    "from tensorflow.keras.preprocessing.sequence import pad_sequences\n",
    "from sklearn.model_selection import train_test_split"
   ]
  },
  {
   "cell_type": "code",
   "execution_count": 73,
   "metadata": {
    "pycharm": {
     "is_executing": false
    }
   },
   "outputs": [],
   "source": [
    "data = pd.read_csv('data/training.1600000.processed.noemoticon.csv', encoding='ISO-8859-1')\n",
    "data = data[['target', 'text']]"
   ]
  },
  {
   "cell_type": "code",
   "execution_count": 74,
   "metadata": {
    "pycharm": {
     "is_executing": false
    }
   },
   "outputs": [
    {
     "data": {
      "text/html": [
       "<div>\n",
       "<style scoped>\n",
       "    .dataframe tbody tr th:only-of-type {\n",
       "        vertical-align: middle;\n",
       "    }\n",
       "\n",
       "    .dataframe tbody tr th {\n",
       "        vertical-align: top;\n",
       "    }\n",
       "\n",
       "    .dataframe thead th {\n",
       "        text-align: right;\n",
       "    }\n",
       "</style>\n",
       "<table border=\"1\" class=\"dataframe\">\n",
       "  <thead>\n",
       "    <tr style=\"text-align: right;\">\n",
       "      <th></th>\n",
       "      <th>target</th>\n",
       "      <th>text</th>\n",
       "    </tr>\n",
       "  </thead>\n",
       "  <tbody>\n",
       "    <tr>\n",
       "      <td>0</td>\n",
       "      <td>0</td>\n",
       "      <td>@switchfoot http://twitpic.com/2y1zl - Awww, t...</td>\n",
       "    </tr>\n",
       "    <tr>\n",
       "      <td>1</td>\n",
       "      <td>0</td>\n",
       "      <td>is upset that he can't update his Facebook by ...</td>\n",
       "    </tr>\n",
       "    <tr>\n",
       "      <td>2</td>\n",
       "      <td>0</td>\n",
       "      <td>@Kenichan I dived many times for the ball. Man...</td>\n",
       "    </tr>\n",
       "    <tr>\n",
       "      <td>3</td>\n",
       "      <td>0</td>\n",
       "      <td>my whole body feels itchy and like its on fire</td>\n",
       "    </tr>\n",
       "    <tr>\n",
       "      <td>4</td>\n",
       "      <td>0</td>\n",
       "      <td>@nationwideclass no, it's not behaving at all....</td>\n",
       "    </tr>\n",
       "    <tr>\n",
       "      <td>...</td>\n",
       "      <td>...</td>\n",
       "      <td>...</td>\n",
       "    </tr>\n",
       "    <tr>\n",
       "      <td>1599995</td>\n",
       "      <td>4</td>\n",
       "      <td>Just woke up. Having no school is the best fee...</td>\n",
       "    </tr>\n",
       "    <tr>\n",
       "      <td>1599996</td>\n",
       "      <td>4</td>\n",
       "      <td>TheWDB.com - Very cool to hear old Walt interv...</td>\n",
       "    </tr>\n",
       "    <tr>\n",
       "      <td>1599997</td>\n",
       "      <td>4</td>\n",
       "      <td>Are you ready for your MoJo Makeover? Ask me f...</td>\n",
       "    </tr>\n",
       "    <tr>\n",
       "      <td>1599998</td>\n",
       "      <td>4</td>\n",
       "      <td>Happy 38th Birthday to my boo of alll time!!! ...</td>\n",
       "    </tr>\n",
       "    <tr>\n",
       "      <td>1599999</td>\n",
       "      <td>4</td>\n",
       "      <td>happy #charitytuesday @theNSPCC @SparksCharity...</td>\n",
       "    </tr>\n",
       "  </tbody>\n",
       "</table>\n",
       "<p>1600000 rows × 2 columns</p>\n",
       "</div>"
      ],
      "text/plain": [
       "         target                                               text\n",
       "0             0  @switchfoot http://twitpic.com/2y1zl - Awww, t...\n",
       "1             0  is upset that he can't update his Facebook by ...\n",
       "2             0  @Kenichan I dived many times for the ball. Man...\n",
       "3             0    my whole body feels itchy and like its on fire \n",
       "4             0  @nationwideclass no, it's not behaving at all....\n",
       "...         ...                                                ...\n",
       "1599995       4  Just woke up. Having no school is the best fee...\n",
       "1599996       4  TheWDB.com - Very cool to hear old Walt interv...\n",
       "1599997       4  Are you ready for your MoJo Makeover? Ask me f...\n",
       "1599998       4  Happy 38th Birthday to my boo of alll time!!! ...\n",
       "1599999       4  happy #charitytuesday @theNSPCC @SparksCharity...\n",
       "\n",
       "[1600000 rows x 2 columns]"
      ]
     },
     "execution_count": 74,
     "metadata": {},
     "output_type": "execute_result"
    }
   ],
   "source": [
    "data"
   ]
  },
  {
   "cell_type": "code",
   "execution_count": 75,
   "metadata": {
    "pycharm": {
     "is_executing": false
    }
   },
   "outputs": [],
   "source": [
    "accepted_chars = 'abcdefghijklmnopqrstuvwxyz '\n",
    "\n",
    "def normalize(line):\n",
    "    new_chars = [c.lower() for c in line if c.lower() in accepted_chars]\n",
    "    return ''.join(new_chars)"
   ]
  },
  {
   "cell_type": "code",
   "execution_count": 76,
   "metadata": {
    "pycharm": {
     "is_executing": true
    }
   },
   "outputs": [],
   "source": [
    "for idx,row in data.iterrows():\n",
    "    # print(data.at[idx, 'text'])\n",
    "    data.at[idx, 'text'] = normalize(data.at[idx, 'text'].replace('rt', ' '))\n",
    "    ## row[1] = normalize(row[1].replace('rt',' '))"
   ]
  },
  {
   "cell_type": "code",
   "execution_count": 77,
   "metadata": {
    "pycharm": {
     "is_executing": true
    }
   },
   "outputs": [
    {
     "data": {
      "text/html": [
       "<div>\n",
       "<style scoped>\n",
       "    .dataframe tbody tr th:only-of-type {\n",
       "        vertical-align: middle;\n",
       "    }\n",
       "\n",
       "    .dataframe tbody tr th {\n",
       "        vertical-align: top;\n",
       "    }\n",
       "\n",
       "    .dataframe thead th {\n",
       "        text-align: right;\n",
       "    }\n",
       "</style>\n",
       "<table border=\"1\" class=\"dataframe\">\n",
       "  <thead>\n",
       "    <tr style=\"text-align: right;\">\n",
       "      <th></th>\n",
       "      <th>target</th>\n",
       "      <th>text</th>\n",
       "    </tr>\n",
       "  </thead>\n",
       "  <tbody>\n",
       "    <tr>\n",
       "      <td>0</td>\n",
       "      <td>0</td>\n",
       "      <td>switchfoot httptwitpiccomyzl  awww thats a bum...</td>\n",
       "    </tr>\n",
       "    <tr>\n",
       "      <td>1</td>\n",
       "      <td>0</td>\n",
       "      <td>is upset that he cant update his facebook by t...</td>\n",
       "    </tr>\n",
       "    <tr>\n",
       "      <td>2</td>\n",
       "      <td>0</td>\n",
       "      <td>kenichan i dived many times for the ball manag...</td>\n",
       "    </tr>\n",
       "    <tr>\n",
       "      <td>3</td>\n",
       "      <td>0</td>\n",
       "      <td>my whole body feels itchy and like its on fire</td>\n",
       "    </tr>\n",
       "    <tr>\n",
       "      <td>4</td>\n",
       "      <td>0</td>\n",
       "      <td>nationwideclass no its not behaving at all im ...</td>\n",
       "    </tr>\n",
       "    <tr>\n",
       "      <td>...</td>\n",
       "      <td>...</td>\n",
       "      <td>...</td>\n",
       "    </tr>\n",
       "    <tr>\n",
       "      <td>1599995</td>\n",
       "      <td>4</td>\n",
       "      <td>just woke up having no school is the best feel...</td>\n",
       "    </tr>\n",
       "    <tr>\n",
       "      <td>1599996</td>\n",
       "      <td>4</td>\n",
       "      <td>thewdbcom  very cool to hear old walt intervie...</td>\n",
       "    </tr>\n",
       "    <tr>\n",
       "      <td>1599997</td>\n",
       "      <td>4</td>\n",
       "      <td>are you ready for your mojo makeover ask me fo...</td>\n",
       "    </tr>\n",
       "    <tr>\n",
       "      <td>1599998</td>\n",
       "      <td>4</td>\n",
       "      <td>happy th bi hday to my boo of alll time tupac ...</td>\n",
       "    </tr>\n",
       "    <tr>\n",
       "      <td>1599999</td>\n",
       "      <td>4</td>\n",
       "      <td>happy charitytuesday thenspcc sparkscharity sp...</td>\n",
       "    </tr>\n",
       "  </tbody>\n",
       "</table>\n",
       "<p>1600000 rows × 2 columns</p>\n",
       "</div>"
      ],
      "text/plain": [
       "         target                                               text\n",
       "0             0  switchfoot httptwitpiccomyzl  awww thats a bum...\n",
       "1             0  is upset that he cant update his facebook by t...\n",
       "2             0  kenichan i dived many times for the ball manag...\n",
       "3             0    my whole body feels itchy and like its on fire \n",
       "4             0  nationwideclass no its not behaving at all im ...\n",
       "...         ...                                                ...\n",
       "1599995       4  just woke up having no school is the best feel...\n",
       "1599996       4  thewdbcom  very cool to hear old walt intervie...\n",
       "1599997       4  are you ready for your mojo makeover ask me fo...\n",
       "1599998       4  happy th bi hday to my boo of alll time tupac ...\n",
       "1599999       4  happy charitytuesday thenspcc sparkscharity sp...\n",
       "\n",
       "[1600000 rows x 2 columns]"
      ]
     },
     "execution_count": 77,
     "metadata": {},
     "output_type": "execute_result"
    }
   ],
   "source": [
    "data"
   ]
  },
  {
   "cell_type": "code",
   "execution_count": 78,
   "metadata": {
    "pycharm": {
     "is_executing": true
    }
   },
   "outputs": [],
   "source": [
    "max_features = 2000"
   ]
  },
  {
   "cell_type": "code",
   "execution_count": 79,
   "metadata": {
    "pycharm": {
     "is_executing": true
    }
   },
   "outputs": [],
   "source": [
    "tokenizer = Tokenizer(num_words=max_features, split=' ')\n",
    "tokenizer.fit_on_texts(data['text'].values)\n",
    "X = tokenizer.texts_to_sequences(data['text'].values)\n",
    "X = pad_sequences(X)"
   ]
  },
  {
   "cell_type": "code",
   "execution_count": 80,
   "metadata": {
    "pycharm": {
     "is_executing": true
    }
   },
   "outputs": [
    {
     "data": {
      "text/plain": [
       "array([[   0,    0,    0, ...,   40,    9,  386],\n",
       "       [   0,    0,    0, ...,   42,  264, 1203],\n",
       "       [   0,    0,    0, ...,   38,   34,   12],\n",
       "       ...,\n",
       "       [   0,    0,    0, ...,  612,   15,   10],\n",
       "       [   0,    0,    0, ...,  503,   12,   50],\n",
       "       [   0,    0,    0, ...,    0,    0,  117]], dtype=int32)"
      ]
     },
     "execution_count": 80,
     "metadata": {},
     "output_type": "execute_result"
    }
   ],
   "source": [
    "X"
   ]
  },
  {
   "cell_type": "code",
   "execution_count": 82,
   "metadata": {
    "pycharm": {
     "is_executing": true
    }
   },
   "outputs": [
    {
     "name": "stdout",
     "output_type": "stream",
     "text": [
      "Model: \"sequential_13\"\n",
      "_________________________________________________________________\n",
      "Layer (type)                 Output Shape              Param #   \n",
      "=================================================================\n",
      "embedding_13 (Embedding)     (None, 40, 128)           256000    \n",
      "_________________________________________________________________\n",
      "cu_dnnlstm_11 (CuDNNLSTM)    (None, 128)               132096    \n",
      "_________________________________________________________________\n",
      "dense_13 (Dense)             (None, 2)                 258       \n",
      "=================================================================\n",
      "Total params: 388,354\n",
      "Trainable params: 388,354\n",
      "Non-trainable params: 0\n",
      "_________________________________________________________________\n",
      "None\n"
     ]
    }
   ],
   "source": [
    "model = Sequential()\n",
    "model.add(Embedding(max_features, 128, input_length = X.shape[1]))\n",
    "model.add(CuDNNLSTM(128))\n",
    "model.add(Dense(2, activation='softmax'))\n",
    "\n",
    "model.compile(loss='categorical_crossentropy', optimizer='adam', metrics=['accuracy'])\n",
    "print(model.summary())"
   ]
  },
  {
   "cell_type": "code",
   "execution_count": 83,
   "metadata": {
    "pycharm": {
     "is_executing": true
    }
   },
   "outputs": [],
   "source": [
    "Y = pd.get_dummies(data['target']).values"
   ]
  },
  {
   "cell_type": "code",
   "execution_count": 84,
   "metadata": {
    "pycharm": {
     "is_executing": true
    }
   },
   "outputs": [
    {
     "data": {
      "text/plain": [
       "array([[1, 0],\n",
       "       [1, 0],\n",
       "       [1, 0],\n",
       "       ...,\n",
       "       [0, 1],\n",
       "       [0, 1],\n",
       "       [0, 1]], dtype=uint8)"
      ]
     },
     "execution_count": 84,
     "metadata": {},
     "output_type": "execute_result"
    }
   ],
   "source": [
    "Y"
   ]
  },
  {
   "cell_type": "code",
   "execution_count": 130,
   "metadata": {
    "pycharm": {
     "is_executing": true
    }
   },
   "outputs": [
    {
     "name": "stdout",
     "output_type": "stream",
     "text": [
      "(160000, 40) (160000, 2)\n",
      "(1440000, 40) (1440000, 2)\n"
     ]
    }
   ],
   "source": [
    "Y = pd.get_dummies(data['target']).values\n",
    "X_train, X_test, Y_train, Y_test = train_test_split(X,Y, test_size = 0.90, random_state = 22)\n",
    "print(X_train.shape,Y_train.shape)\n",
    "print(X_test.shape,Y_test.shape)"
   ]
  },
  {
   "cell_type": "code",
   "execution_count": 86,
   "metadata": {
    "pycharm": {
     "is_executing": true
    }
   },
   "outputs": [
    {
     "name": "stdout",
     "output_type": "stream",
     "text": [
      "Epoch 1/100\n",
      "1072000/1072000 - 27s - loss: 0.4612 - acc: 0.7804\n",
      "Epoch 2/100\n",
      "1072000/1072000 - 25s - loss: 0.4291 - acc: 0.7996\n",
      "Epoch 3/100\n",
      "1072000/1072000 - 27s - loss: 0.4196 - acc: 0.8049\n",
      "Epoch 4/100\n",
      "1072000/1072000 - 29s - loss: 0.4116 - acc: 0.8093\n",
      "Epoch 5/100\n",
      "1072000/1072000 - 29s - loss: 0.4044 - acc: 0.8131\n",
      "Epoch 6/100\n",
      "1072000/1072000 - 29s - loss: 0.3976 - acc: 0.8170\n",
      "Epoch 7/100\n",
      "1072000/1072000 - 29s - loss: 0.3910 - acc: 0.8206\n",
      "Epoch 8/100\n",
      "1072000/1072000 - 29s - loss: 0.3848 - acc: 0.8241\n",
      "Epoch 9/100\n",
      "1072000/1072000 - 29s - loss: 0.3787 - acc: 0.8273\n",
      "Epoch 10/100\n",
      "1072000/1072000 - 29s - loss: 0.3725 - acc: 0.8308\n",
      "Epoch 11/100\n",
      "1072000/1072000 - 29s - loss: 0.3663 - acc: 0.8341\n",
      "Epoch 12/100\n",
      "1072000/1072000 - 29s - loss: 0.3598 - acc: 0.8373\n",
      "Epoch 13/100\n",
      "1072000/1072000 - 29s - loss: 0.3531 - acc: 0.8406\n",
      "Epoch 14/100\n",
      "1072000/1072000 - 29s - loss: 0.3458 - acc: 0.8444\n",
      "Epoch 15/100\n",
      "1072000/1072000 - 29s - loss: 0.3385 - acc: 0.8483\n",
      "Epoch 16/100\n",
      "1072000/1072000 - 29s - loss: 0.3306 - acc: 0.8522\n",
      "Epoch 17/100\n",
      "1072000/1072000 - 29s - loss: 0.3226 - acc: 0.8563\n",
      "Epoch 18/100\n",
      "1072000/1072000 - 29s - loss: 0.3145 - acc: 0.8603\n",
      "Epoch 19/100\n",
      "1072000/1072000 - 29s - loss: 0.3063 - acc: 0.8646\n",
      "Epoch 20/100\n",
      "1072000/1072000 - 29s - loss: 0.2983 - acc: 0.8686\n",
      "Epoch 21/100\n",
      "1072000/1072000 - 29s - loss: 0.2901 - acc: 0.8726\n",
      "Epoch 22/100\n",
      "1072000/1072000 - 29s - loss: 0.2820 - acc: 0.8767\n",
      "Epoch 23/100\n",
      "1072000/1072000 - 29s - loss: 0.2745 - acc: 0.8804\n",
      "Epoch 24/100\n",
      "1072000/1072000 - 29s - loss: 0.2671 - acc: 0.8840\n",
      "Epoch 25/100\n",
      "1072000/1072000 - 29s - loss: 0.2599 - acc: 0.8876\n",
      "Epoch 26/100\n",
      "1072000/1072000 - 29s - loss: 0.2527 - acc: 0.8909\n",
      "Epoch 27/100\n",
      "1072000/1072000 - 29s - loss: 0.2464 - acc: 0.8939\n",
      "Epoch 28/100\n",
      "1072000/1072000 - 29s - loss: 0.2396 - acc: 0.8974\n",
      "Epoch 29/100\n",
      "1072000/1072000 - 29s - loss: 0.2341 - acc: 0.9002\n",
      "Epoch 30/100\n",
      "1072000/1072000 - 29s - loss: 0.2283 - acc: 0.9028\n",
      "Epoch 31/100\n",
      "1072000/1072000 - 29s - loss: 0.2225 - acc: 0.9056\n",
      "Epoch 32/100\n",
      "1072000/1072000 - 29s - loss: 0.2178 - acc: 0.9078\n",
      "Epoch 33/100\n",
      "1072000/1072000 - 29s - loss: 0.2127 - acc: 0.9101\n",
      "Epoch 34/100\n",
      "1072000/1072000 - 29s - loss: 0.2084 - acc: 0.9123\n",
      "Epoch 35/100\n",
      "1072000/1072000 - 29s - loss: 0.2034 - acc: 0.9148\n",
      "Epoch 36/100\n",
      "1072000/1072000 - 29s - loss: 0.1994 - acc: 0.9164\n",
      "Epoch 37/100\n",
      "1072000/1072000 - 29s - loss: 0.1947 - acc: 0.9187\n",
      "Epoch 38/100\n",
      "1072000/1072000 - 29s - loss: 0.1914 - acc: 0.9204\n",
      "Epoch 39/100\n",
      "1072000/1072000 - 29s - loss: 0.1886 - acc: 0.9216\n",
      "Epoch 40/100\n",
      "1072000/1072000 - 29s - loss: 0.1848 - acc: 0.9234\n",
      "Epoch 41/100\n",
      "1072000/1072000 - 29s - loss: 0.1810 - acc: 0.9252\n",
      "Epoch 42/100\n",
      "1072000/1072000 - 29s - loss: 0.1778 - acc: 0.9264\n",
      "Epoch 43/100\n",
      "1072000/1072000 - 29s - loss: 0.1760 - acc: 0.9275\n",
      "Epoch 44/100\n",
      "1072000/1072000 - 29s - loss: 0.1734 - acc: 0.9287\n",
      "Epoch 45/100\n",
      "1072000/1072000 - 29s - loss: 0.1703 - acc: 0.9301\n",
      "Epoch 46/100\n",
      "1072000/1072000 - 29s - loss: 0.1677 - acc: 0.9312\n",
      "Epoch 47/100\n",
      "1072000/1072000 - 29s - loss: 0.1652 - acc: 0.9322\n",
      "Epoch 48/100\n",
      "1072000/1072000 - 29s - loss: 0.1629 - acc: 0.9333\n",
      "Epoch 49/100\n",
      "1072000/1072000 - 29s - loss: 0.1607 - acc: 0.9341\n",
      "Epoch 50/100\n",
      "1072000/1072000 - 29s - loss: 0.1588 - acc: 0.9353\n",
      "Epoch 51/100\n",
      "1072000/1072000 - 29s - loss: 0.1570 - acc: 0.9360\n",
      "Epoch 52/100\n",
      "1072000/1072000 - 29s - loss: 0.1542 - acc: 0.9374\n",
      "Epoch 53/100\n",
      "1072000/1072000 - 29s - loss: 0.1522 - acc: 0.9382\n",
      "Epoch 54/100\n",
      "1072000/1072000 - 29s - loss: 0.1529 - acc: 0.9377\n",
      "Epoch 55/100\n",
      "1072000/1072000 - 29s - loss: 0.1491 - acc: 0.9393\n",
      "Epoch 56/100\n",
      "1072000/1072000 - 29s - loss: 0.1471 - acc: 0.9403\n",
      "Epoch 57/100\n",
      "1072000/1072000 - 29s - loss: 0.1467 - acc: 0.9406\n",
      "Epoch 58/100\n",
      "1072000/1072000 - 29s - loss: 0.1452 - acc: 0.9412\n",
      "Epoch 59/100\n",
      "1072000/1072000 - 29s - loss: 0.1429 - acc: 0.9423\n",
      "Epoch 60/100\n",
      "1072000/1072000 - 29s - loss: 0.1422 - acc: 0.9425\n",
      "Epoch 61/100\n",
      "1072000/1072000 - 29s - loss: 0.1418 - acc: 0.9428\n",
      "Epoch 62/100\n",
      "1072000/1072000 - 29s - loss: 0.1396 - acc: 0.9436\n",
      "Epoch 63/100\n",
      "1072000/1072000 - 29s - loss: 0.1374 - acc: 0.9447\n",
      "Epoch 64/100\n",
      "1072000/1072000 - 29s - loss: 0.1379 - acc: 0.9445\n",
      "Epoch 65/100\n",
      "1072000/1072000 - 29s - loss: 0.1366 - acc: 0.9450\n",
      "Epoch 66/100\n",
      "1072000/1072000 - 29s - loss: 0.1350 - acc: 0.9458\n",
      "Epoch 67/100\n",
      "1072000/1072000 - 29s - loss: 0.1345 - acc: 0.9458\n",
      "Epoch 68/100\n",
      "1072000/1072000 - 29s - loss: 0.1335 - acc: 0.9462\n",
      "Epoch 69/100\n",
      "1072000/1072000 - 29s - loss: 0.1319 - acc: 0.9473\n",
      "Epoch 70/100\n",
      "1072000/1072000 - 29s - loss: 0.1313 - acc: 0.9474\n",
      "Epoch 71/100\n",
      "1072000/1072000 - 29s - loss: 0.1306 - acc: 0.9475\n",
      "Epoch 72/100\n",
      "1072000/1072000 - 29s - loss: 0.1287 - acc: 0.9486\n",
      "Epoch 73/100\n",
      "1072000/1072000 - 29s - loss: 0.1286 - acc: 0.9486\n",
      "Epoch 74/100\n",
      "1072000/1072000 - 29s - loss: 0.1281 - acc: 0.9487\n",
      "Epoch 75/100\n",
      "1072000/1072000 - 29s - loss: 0.1288 - acc: 0.9483\n",
      "Epoch 76/100\n",
      "1072000/1072000 - 29s - loss: 0.1249 - acc: 0.9500\n",
      "Epoch 77/100\n",
      "1072000/1072000 - 29s - loss: 0.1247 - acc: 0.9501\n",
      "Epoch 78/100\n",
      "1072000/1072000 - 29s - loss: 0.1246 - acc: 0.9501\n",
      "Epoch 79/100\n",
      "1072000/1072000 - 29s - loss: 0.1239 - acc: 0.9505\n",
      "Epoch 80/100\n",
      "1072000/1072000 - 29s - loss: 0.1231 - acc: 0.9509\n",
      "Epoch 81/100\n",
      "1072000/1072000 - 29s - loss: 0.1231 - acc: 0.9509\n",
      "Epoch 82/100\n",
      "1072000/1072000 - 29s - loss: 0.1219 - acc: 0.9515\n",
      "Epoch 83/100\n",
      "1072000/1072000 - 29s - loss: 0.1214 - acc: 0.9515\n",
      "Epoch 84/100\n",
      "1072000/1072000 - 29s - loss: 0.1208 - acc: 0.9520\n",
      "Epoch 85/100\n",
      "1072000/1072000 - 29s - loss: 0.1205 - acc: 0.9518\n",
      "Epoch 86/100\n",
      "1072000/1072000 - 29s - loss: 0.1200 - acc: 0.9521\n",
      "Epoch 87/100\n",
      "1072000/1072000 - 29s - loss: 0.1179 - acc: 0.9532\n",
      "Epoch 88/100\n",
      "1072000/1072000 - 29s - loss: 0.1182 - acc: 0.9528\n",
      "Epoch 89/100\n",
      "1072000/1072000 - 29s - loss: 0.1199 - acc: 0.9523\n",
      "Epoch 90/100\n",
      "1072000/1072000 - 29s - loss: 0.1168 - acc: 0.9534\n",
      "Epoch 91/100\n",
      "1072000/1072000 - 29s - loss: 0.1162 - acc: 0.9537\n",
      "Epoch 92/100\n",
      "1072000/1072000 - 29s - loss: 0.1158 - acc: 0.9539\n",
      "Epoch 93/100\n",
      "1072000/1072000 - 29s - loss: 0.1155 - acc: 0.9539\n",
      "Epoch 94/100\n",
      "1072000/1072000 - 29s - loss: 0.1152 - acc: 0.9540\n",
      "Epoch 95/100\n",
      "1072000/1072000 - 29s - loss: 0.1147 - acc: 0.9544\n",
      "Epoch 96/100\n",
      "1072000/1072000 - 29s - loss: 0.1155 - acc: 0.9541\n",
      "Epoch 97/100\n",
      "1072000/1072000 - 29s - loss: 0.1141 - acc: 0.9545\n",
      "Epoch 98/100\n",
      "1072000/1072000 - 29s - loss: 0.1135 - acc: 0.9548\n",
      "Epoch 99/100\n",
      "1072000/1072000 - 29s - loss: 0.1116 - acc: 0.9556\n",
      "Epoch 100/100\n",
      "1072000/1072000 - 29s - loss: 0.1130 - acc: 0.9549\n"
     ]
    },
    {
     "data": {
      "text/plain": [
       "<tensorflow.python.keras.callbacks.History at 0x7eff27587ed0>"
      ]
     },
     "execution_count": 86,
     "metadata": {},
     "output_type": "execute_result"
    }
   ],
   "source": [
    "batch_size = 1000\n",
    "model.fit(X_train, Y_train, epochs=100, batch_size=batch_size, verbose = 2)"
   ]
  },
  {
   "cell_type": "code",
   "execution_count": 131,
   "metadata": {
    "pycharm": {
     "is_executing": true
    }
   },
   "outputs": [
    {
     "name": "stdout",
     "output_type": "stream",
     "text": [
      "640000/640000 - 6s - loss: 0.4869 - acc: 0.8964\n",
      "score: 0.49\n",
      "acc: 0.90\n"
     ]
    }
   ],
   "source": [
    "validation_size = 800000\n",
    "\n",
    "X_validate = X_test[-validation_size:]\n",
    "Y_validate = Y_test[-validation_size:]\n",
    "X_test = X_test[:-validation_size]\n",
    "Y_test = Y_test[:-validation_size]\n",
    "score,acc = model.evaluate(X_test, Y_test, verbose = 2, batch_size = batch_size)\n",
    "print(\"score: %.2f\" % (score))\n",
    "print(\"acc: %.2f\" % (acc))"
   ]
  },
  {
   "cell_type": "code",
   "execution_count": null,
   "metadata": {},
   "outputs": [],
   "source": []
  }
 ],
 "metadata": {
  "kernelspec": {
   "display_name": "Python 3",
   "language": "python",
   "name": "python3"
  },
  "language_info": {
   "codemirror_mode": {
    "name": "ipython",
    "version": 3
   },
   "file_extension": ".py",
   "mimetype": "text/x-python",
   "name": "python",
   "nbconvert_exporter": "python",
   "pygments_lexer": "ipython3",
   "version": "3.7.4"
  }
 },
 "nbformat": 4,
 "nbformat_minor": 2
}
