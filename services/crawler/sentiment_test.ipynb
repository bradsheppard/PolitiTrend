{
 "cells": [
  {
   "cell_type": "code",
   "execution_count": 22,
   "metadata": {},
   "outputs": [],
   "source": [
    "from typing import List, Dict, Union\n",
    "from attr import dataclass\n",
    "from vaderSentiment.vaderSentiment import SentimentIntensityAnalyzer\n",
    "import spacy"
   ]
  },
  {
   "cell_type": "code",
   "execution_count": 9,
   "metadata": {},
   "outputs": [],
   "source": [
    "analyzer = SentimentIntensityAnalyzer()\n",
    "nlp = spacy.load('en')"
   ]
  },
  {
   "cell_type": "code",
   "execution_count": 16,
   "metadata": {},
   "outputs": [],
   "source": [
    "test_sentence = 'Sen. Tammy Duckworth criticizes Trump\\'s response to Iranian missile strikes'"
   ]
  },
  {
   "cell_type": "code",
   "execution_count": 17,
   "metadata": {},
   "outputs": [],
   "source": [
    "doc = nlp(test_sentence)\n",
    "subtokens = [token for token in doc] "
   ]
  },
  {
   "cell_type": "code",
   "execution_count": 18,
   "metadata": {},
   "outputs": [
    {
     "name": "stdout",
     "output_type": "stream",
     "text": [
      "['compound:Sen.', 'compound:Tammy', 'nsubj:Duckworth', 'compound:criticizes', 'poss:Trump', \"case:'s\", 'ROOT:response', 'prep:to', 'amod:Iranian', 'compound:missile', 'pobj:strikes']\n"
     ]
    }
   ],
   "source": [
    "print([toc.dep_ + \":\" + toc.text for toc in subtokens])"
   ]
  },
  {
   "cell_type": "code",
   "execution_count": 19,
   "metadata": {},
   "outputs": [
    {
     "name": "stdout",
     "output_type": "stream",
     "text": [
      "[Sen., Tammy, Duckworth, criticizes, Trump, 's, response, to, Iranian, missile, strikes]\n"
     ]
    }
   ],
   "source": [
    "print(subtokens)"
   ]
  },
  {
   "cell_type": "code",
   "execution_count": 23,
   "metadata": {},
   "outputs": [],
   "source": [
    "@dataclass(init=False)\n",
    "class AnalysisResult:\n",
    "    sentiment: float\n",
    "    subjectResults: Dict[str, float]\n",
    "\n",
    "class SentimentAnalyzer:\n",
    "\n",
    "    def __init__(self, subjects: List[str] = None):\n",
    "        self._analyzer = SentimentIntensityAnalyzer()\n",
    "        self._nlp = spacy.load('en')\n",
    "        self._subjects = subjects\n",
    "\n",
    "    def analyze(self, sentence: str) -> AnalysisResult:\n",
    "        analysis_result = AnalysisResult()\n",
    "        scores = self._analyzer.polarity_scores(sentence)\n",
    "        analysis_result.sentiment = self._normalize_score(scores['compound'])\n",
    "        analysis_result.subjectResults = {}\n",
    "\n",
    "        token_scores = []\n",
    "        \n",
    "        for token in doc:\n",
    "            subject = self._lookup_subject(token.text)\n",
    "            if subject is None:\n",
    "                continue\n",
    "            scores = self._analyzer.polarity_scores(token.sent.text)\n",
    "            score = scores['compound']\n",
    "            adjusted_score = self._normalize_score(score)\n",
    "            analysis_result.subjectResults[subject] = adjusted_score\n",
    "\n",
    "        return analysis_result\n",
    "\n",
    "    @staticmethod\n",
    "    def _normalize_score(score: float):\n",
    "        return score * 5 + 5\n",
    "\n",
    "    def _lookup_subject(self, sentence_subject: str) -> Union[str, None]:\n",
    "        if self._subjects is None:\n",
    "            return None\n",
    "\n",
    "        for subject in self._subjects:\n",
    "            subject_words = subject.split()\n",
    "            for subject_word in subject_words:\n",
    "                if sentence_subject.lower() == subject_word.lower():\n",
    "                    return subject\n",
    "        return None\n",
    "    "
   ]
  },
  {
   "cell_type": "code",
   "execution_count": 24,
   "metadata": {},
   "outputs": [],
   "source": [
    "analyzer = SentimentAnalyzer(['Donald Trump', 'Tammy Duckworth'])"
   ]
  },
  {
   "cell_type": "code",
   "execution_count": 25,
   "metadata": {},
   "outputs": [
    {
     "data": {
      "text/plain": [
       "AnalysisResult(sentiment=2.0029999999999997, subjectResults={'Tammy Duckworth': 2.0029999999999997})"
      ]
     },
     "execution_count": 25,
     "metadata": {},
     "output_type": "execute_result"
    }
   ],
   "source": [
    "analyzer.analyze(test_sentence)"
   ]
  },
  {
   "cell_type": "code",
   "execution_count": null,
   "metadata": {},
   "outputs": [],
   "source": []
  }
 ],
 "metadata": {
  "kernelspec": {
   "display_name": "Python 3",
   "language": "python",
   "name": "python3"
  },
  "language_info": {
   "codemirror_mode": {
    "name": "ipython",
    "version": 3
   },
   "file_extension": ".py",
   "mimetype": "text/x-python",
   "name": "python",
   "nbconvert_exporter": "python",
   "pygments_lexer": "ipython3",
   "version": "3.7.3"
  }
 },
 "nbformat": 4,
 "nbformat_minor": 4
}
