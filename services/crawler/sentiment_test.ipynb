{
 "cells": [
  {
   "cell_type": "code",
   "execution_count": 1,
   "metadata": {},
   "outputs": [],
   "source": [
    "from vaderSentiment.vaderSentiment import SentimentIntensityAnalyzer\n",
    "import spacy"
   ]
  },
  {
   "cell_type": "code",
   "execution_count": 2,
   "metadata": {},
   "outputs": [],
   "source": [
    "analyzer = SentimentIntensityAnalyzer()\n",
    "nlp = spacy.load('en')"
   ]
  },
  {
   "cell_type": "code",
   "execution_count": 22,
   "metadata": {},
   "outputs": [],
   "source": [
    "test_sentence = 'I\\'m not sure why Lindsey Graham still gets as much attention as he does. He used to be a fairly interesting Republican, but these days he\\'s just Tom Cotton with a personality.'"
   ]
  },
  {
   "cell_type": "code",
   "execution_count": 23,
   "metadata": {},
   "outputs": [],
   "source": [
    "doc = nlp(test_sentence)\n",
    "subtokens = [token for token in doc] "
   ]
  },
  {
   "cell_type": "code",
   "execution_count": 24,
   "metadata": {},
   "outputs": [
    {
     "name": "stdout",
     "output_type": "stream",
     "text": [
      "['nsubj', 'ROOT', 'neg', 'acomp', 'advmod', 'compound', 'nsubj', 'advmod', 'ccomp', 'advmod', 'amod', 'dobj', 'mark', 'nsubj', 'advcl', 'punct', 'nsubj', 'ROOT', 'aux', 'xcomp', 'det', 'advmod', 'amod', 'attr', 'punct', 'cc', 'det', 'npadvmod', 'nsubj', 'conj', 'advmod', 'compound', 'attr', 'prep', 'det', 'pobj', 'punct']\n"
     ]
    }
   ],
   "source": [
    "print([toc.dep_ for toc in subtokens])"
   ]
  },
  {
   "cell_type": "code",
   "execution_count": 25,
   "metadata": {},
   "outputs": [
    {
     "name": "stdout",
     "output_type": "stream",
     "text": [
      "[I, 'm, not, sure, why, Lindsey, Graham, still, gets, as, much, attention, as, he, does, ., He, used, to, be, a, fairly, interesting, Republican, ,, but, these, days, he, 's, just, Tom, Cotton, with, a, personality, .]\n"
     ]
    }
   ],
   "source": [
    "print(subtokens)"
   ]
  },
  {
   "cell_type": "code",
   "execution_count": 26,
   "metadata": {},
   "outputs": [],
   "source": [
    "def analyze(sentence):\n",
    "    subject_scores = {}\n",
    "    doc = nlp(sentence)\n",
    "    for token in doc:\n",
    "        if token.dep_ == 'nsubj':\n",
    "            scores = analyzer.polarity_scores(token.sent.text)\n",
    "            score = scores['compound']\n",
    "            subject_scores[token] = score * 5 + 5\n",
    "    return subject_scores\n",
    "    "
   ]
  },
  {
   "cell_type": "code",
   "execution_count": 27,
   "metadata": {},
   "outputs": [
    {
     "data": {
      "text/plain": [
       "{I: 3.7945, Graham: 3.7945, he: 3.7945, He: 6.072, he: 6.072}"
      ]
     },
     "execution_count": 27,
     "metadata": {},
     "output_type": "execute_result"
    }
   ],
   "source": [
    "analyze(test_sentence)"
   ]
  },
  {
   "cell_type": "code",
   "execution_count": null,
   "metadata": {},
   "outputs": [],
   "source": []
  }
 ],
 "metadata": {
  "kernelspec": {
   "display_name": "Python 3",
   "language": "python",
   "name": "python3"
  },
  "language_info": {
   "codemirror_mode": {
    "name": "ipython",
    "version": 3
   },
   "file_extension": ".py",
   "mimetype": "text/x-python",
   "name": "python",
   "nbconvert_exporter": "python",
   "pygments_lexer": "ipython3",
   "version": "3.7.3"
  }
 },
 "nbformat": 4,
 "nbformat_minor": 4
}
