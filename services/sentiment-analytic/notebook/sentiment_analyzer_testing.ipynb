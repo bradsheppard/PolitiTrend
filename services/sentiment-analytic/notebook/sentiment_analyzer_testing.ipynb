{
 "cells": [
  {
   "cell_type": "markdown",
   "metadata": {
    "collapsed": true
   },
   "source": [
    "## Sentiment Analyzer Testing"
   ]
  },
  {
   "cell_type": "code",
   "execution_count": 54,
   "metadata": {},
   "outputs": [],
   "source": [
    "import spacy\n",
    "from spacy import displacy\n",
    "import math\n",
    "from typing import Dict, List\n",
    "from dataclasses import dataclass\n",
    "import networkx as nx\n",
    "from functional import seq\n",
    "from statistics import mean\n",
    "\n",
    "from vaderSentiment.vaderSentiment import SentimentIntensityAnalyzer\n",
    "\n",
    "sentiment_analyzer = SentimentIntensityAnalyzer()\n",
    "\n",
    "nlp = spacy.load('en')\n",
    "\n",
    "@dataclass(frozen=True, eq=True)\n",
    "class Politician:\n",
    "    num: int\n",
    "    name: str\n",
    "\n",
    "\n",
    "def get_entity_sentiments(statements: List[str],\n",
    "                         subjects: List[Politician] = None) -> Dict[int, float]:\n",
    "    for doc in nlp.pipe(statements):\n",
    "        results = {}\n",
    "        for sent in doc.sents:\n",
    "            score = sentiment_analyzer.polarity_scores(sent.text)['compound']\n",
    "            pos_words = _get_pos_subjects(sent, ['VERB', 'ADJ', 'NOUN'])\n",
    "            entities = seq(sent.ents) \\\n",
    "                .filter(lambda x: x.label_ == 'PERSON') \\\n",
    "                .map(lambda x: x.text) \\\n",
    "                .list()\n",
    "\n",
    "            if len(entities) == 0:\n",
    "                continue\n",
    "\n",
    "            graph = nx.Graph()\n",
    "\n",
    "            for token in sent:\n",
    "                for child in token.children:\n",
    "                    dep = child.dep_\n",
    "                    weight = 0 if dep == 'conj' else 1\n",
    "                    graph.add_edge('{0}'.format(token), '{0}'.format(child), weight=weight)\n",
    "\n",
    "            path_lengths = {entity: 0 for entity in entities}\n",
    "            \n",
    "            for word in pos_words:\n",
    "                for entity in entities:\n",
    "                    names = entity.split()\n",
    "                    try:\n",
    "                        shortest_path = min(\n",
    "                            [nx.dijkstra_path_length(\n",
    "                                graph, source=word, target=name) for name in names])\n",
    "                    except nx.NetworkXNoPath:\n",
    "                        shortest_path = math.inf\n",
    "                    path_lengths[entity] += shortest_path\n",
    "\n",
    "            shortest_length = min(path_lengths.values())\n",
    "            \n",
    "            relevant_entities = seq(path_lengths.items()) \\\n",
    "                .filter(lambda x: x[1] == shortest_length) \\\n",
    "                .map(lambda x: x[0])\n",
    "\n",
    "            for entity in relevant_entities:\n",
    "                politicians = _match_politicians(entity, subjects)\n",
    "                for politician in politicians:\n",
    "                    if politician.num not in results:\n",
    "                        results[politician.num] = [score]\n",
    "                    else:\n",
    "                        results[politician.num].append(score)\n",
    "\n",
    "        for key in results:\n",
    "            results[key] = mean(results[key])\n",
    "\n",
    "    return results\n",
    "\n",
    "\n",
    "def _get_pos_subjects(doc, pos_list) -> List[str]:\n",
    "    results = []\n",
    "    for word in doc:\n",
    "        if word.pos_ in pos_list:\n",
    "            results.append(word.text)\n",
    "\n",
    "    return results\n",
    "\n",
    "\n",
    "def _match_politicians(text, politicians) -> List[Politician]:\n",
    "    results = []\n",
    "\n",
    "    for politician in politicians:\n",
    "        split_name = politician.name.split()\n",
    "        for name in split_name:\n",
    "            if name in text:\n",
    "                results.append(politician)\n",
    "    return results\n"
   ]
  },
  {
   "cell_type": "code",
   "execution_count": 55,
   "metadata": {},
   "outputs": [],
   "source": [
    "politicians = [\n",
    "    Politician(1, 'Donald Trump'),\n",
    "    Politician(2, 'Bernie Sanders')\n",
    "]"
   ]
  },
  {
   "cell_type": "code",
   "execution_count": 59,
   "metadata": {},
   "outputs": [],
   "source": [
    "# tweet = 'When Trump accuses Bernie Sanders of Murder Trump is actually admitting he’s a murderer'\n",
    "tweet = 'Bernie Sanders: Donald Trump is shit'\n",
    "result = get_entity_sentiments([tweet], politicians)"
   ]
  },
  {
   "cell_type": "code",
   "execution_count": 60,
   "metadata": {},
   "outputs": [
    {
     "data": {
      "text/plain": [
       "{2: 0.0, 1: -0.5574}"
      ]
     },
     "execution_count": 60,
     "metadata": {},
     "output_type": "execute_result"
    }
   ],
   "source": [
    "result"
   ]
  },
  {
   "cell_type": "code",
   "execution_count": 58,
   "metadata": {},
   "outputs": [
    {
     "data": {
      "text/html": [
       "<span class=\"tex2jax_ignore\"><svg xmlns=\"http://www.w3.org/2000/svg\" xmlns:xlink=\"http://www.w3.org/1999/xlink\" xml:lang=\"en\" id=\"82f8f21617254d718431dd34112a6144-0\" class=\"displacy\" width=\"1450\" height=\"399.5\" direction=\"ltr\" style=\"max-width: none; height: 399.5px; color: #000000; background: #ffffff; font-family: Arial; direction: ltr\">\n",
       "<text class=\"displacy-token\" fill=\"currentColor\" text-anchor=\"middle\" y=\"309.5\">\n",
       "    <tspan class=\"displacy-word\" fill=\"currentColor\" x=\"50\">Bernie</tspan>\n",
       "    <tspan class=\"displacy-tag\" dy=\"2em\" fill=\"currentColor\" x=\"50\">PROPN</tspan>\n",
       "</text>\n",
       "\n",
       "<text class=\"displacy-token\" fill=\"currentColor\" text-anchor=\"middle\" y=\"309.5\">\n",
       "    <tspan class=\"displacy-word\" fill=\"currentColor\" x=\"225\">Sanders</tspan>\n",
       "    <tspan class=\"displacy-tag\" dy=\"2em\" fill=\"currentColor\" x=\"225\">PROPN</tspan>\n",
       "</text>\n",
       "\n",
       "<text class=\"displacy-token\" fill=\"currentColor\" text-anchor=\"middle\" y=\"309.5\">\n",
       "    <tspan class=\"displacy-word\" fill=\"currentColor\" x=\"400\">said</tspan>\n",
       "    <tspan class=\"displacy-tag\" dy=\"2em\" fill=\"currentColor\" x=\"400\">VERB</tspan>\n",
       "</text>\n",
       "\n",
       "<text class=\"displacy-token\" fill=\"currentColor\" text-anchor=\"middle\" y=\"309.5\">\n",
       "    <tspan class=\"displacy-word\" fill=\"currentColor\" x=\"575\">that</tspan>\n",
       "    <tspan class=\"displacy-tag\" dy=\"2em\" fill=\"currentColor\" x=\"575\">SCONJ</tspan>\n",
       "</text>\n",
       "\n",
       "<text class=\"displacy-token\" fill=\"currentColor\" text-anchor=\"middle\" y=\"309.5\">\n",
       "    <tspan class=\"displacy-word\" fill=\"currentColor\" x=\"750\">Donald</tspan>\n",
       "    <tspan class=\"displacy-tag\" dy=\"2em\" fill=\"currentColor\" x=\"750\">PROPN</tspan>\n",
       "</text>\n",
       "\n",
       "<text class=\"displacy-token\" fill=\"currentColor\" text-anchor=\"middle\" y=\"309.5\">\n",
       "    <tspan class=\"displacy-word\" fill=\"currentColor\" x=\"925\">Trump</tspan>\n",
       "    <tspan class=\"displacy-tag\" dy=\"2em\" fill=\"currentColor\" x=\"925\">PROPN</tspan>\n",
       "</text>\n",
       "\n",
       "<text class=\"displacy-token\" fill=\"currentColor\" text-anchor=\"middle\" y=\"309.5\">\n",
       "    <tspan class=\"displacy-word\" fill=\"currentColor\" x=\"1100\">is</tspan>\n",
       "    <tspan class=\"displacy-tag\" dy=\"2em\" fill=\"currentColor\" x=\"1100\">AUX</tspan>\n",
       "</text>\n",
       "\n",
       "<text class=\"displacy-token\" fill=\"currentColor\" text-anchor=\"middle\" y=\"309.5\">\n",
       "    <tspan class=\"displacy-word\" fill=\"currentColor\" x=\"1275\">shit</tspan>\n",
       "    <tspan class=\"displacy-tag\" dy=\"2em\" fill=\"currentColor\" x=\"1275\">NOUN</tspan>\n",
       "</text>\n",
       "\n",
       "<g class=\"displacy-arrow\">\n",
       "    <path class=\"displacy-arc\" id=\"arrow-82f8f21617254d718431dd34112a6144-0-0\" stroke-width=\"2px\" d=\"M70,264.5 C70,177.0 215.0,177.0 215.0,264.5\" fill=\"none\" stroke=\"currentColor\"/>\n",
       "    <text dy=\"1.25em\" style=\"font-size: 0.8em; letter-spacing: 1px\">\n",
       "        <textPath xlink:href=\"#arrow-82f8f21617254d718431dd34112a6144-0-0\" class=\"displacy-label\" startOffset=\"50%\" side=\"left\" fill=\"currentColor\" text-anchor=\"middle\">compound</textPath>\n",
       "    </text>\n",
       "    <path class=\"displacy-arrowhead\" d=\"M70,266.5 L62,254.5 78,254.5\" fill=\"currentColor\"/>\n",
       "</g>\n",
       "\n",
       "<g class=\"displacy-arrow\">\n",
       "    <path class=\"displacy-arc\" id=\"arrow-82f8f21617254d718431dd34112a6144-0-1\" stroke-width=\"2px\" d=\"M245,264.5 C245,177.0 390.0,177.0 390.0,264.5\" fill=\"none\" stroke=\"currentColor\"/>\n",
       "    <text dy=\"1.25em\" style=\"font-size: 0.8em; letter-spacing: 1px\">\n",
       "        <textPath xlink:href=\"#arrow-82f8f21617254d718431dd34112a6144-0-1\" class=\"displacy-label\" startOffset=\"50%\" side=\"left\" fill=\"currentColor\" text-anchor=\"middle\">nsubj</textPath>\n",
       "    </text>\n",
       "    <path class=\"displacy-arrowhead\" d=\"M245,266.5 L237,254.5 253,254.5\" fill=\"currentColor\"/>\n",
       "</g>\n",
       "\n",
       "<g class=\"displacy-arrow\">\n",
       "    <path class=\"displacy-arc\" id=\"arrow-82f8f21617254d718431dd34112a6144-0-2\" stroke-width=\"2px\" d=\"M595,264.5 C595,89.5 1095.0,89.5 1095.0,264.5\" fill=\"none\" stroke=\"currentColor\"/>\n",
       "    <text dy=\"1.25em\" style=\"font-size: 0.8em; letter-spacing: 1px\">\n",
       "        <textPath xlink:href=\"#arrow-82f8f21617254d718431dd34112a6144-0-2\" class=\"displacy-label\" startOffset=\"50%\" side=\"left\" fill=\"currentColor\" text-anchor=\"middle\">mark</textPath>\n",
       "    </text>\n",
       "    <path class=\"displacy-arrowhead\" d=\"M595,266.5 L587,254.5 603,254.5\" fill=\"currentColor\"/>\n",
       "</g>\n",
       "\n",
       "<g class=\"displacy-arrow\">\n",
       "    <path class=\"displacy-arc\" id=\"arrow-82f8f21617254d718431dd34112a6144-0-3\" stroke-width=\"2px\" d=\"M770,264.5 C770,177.0 915.0,177.0 915.0,264.5\" fill=\"none\" stroke=\"currentColor\"/>\n",
       "    <text dy=\"1.25em\" style=\"font-size: 0.8em; letter-spacing: 1px\">\n",
       "        <textPath xlink:href=\"#arrow-82f8f21617254d718431dd34112a6144-0-3\" class=\"displacy-label\" startOffset=\"50%\" side=\"left\" fill=\"currentColor\" text-anchor=\"middle\">compound</textPath>\n",
       "    </text>\n",
       "    <path class=\"displacy-arrowhead\" d=\"M770,266.5 L762,254.5 778,254.5\" fill=\"currentColor\"/>\n",
       "</g>\n",
       "\n",
       "<g class=\"displacy-arrow\">\n",
       "    <path class=\"displacy-arc\" id=\"arrow-82f8f21617254d718431dd34112a6144-0-4\" stroke-width=\"2px\" d=\"M945,264.5 C945,177.0 1090.0,177.0 1090.0,264.5\" fill=\"none\" stroke=\"currentColor\"/>\n",
       "    <text dy=\"1.25em\" style=\"font-size: 0.8em; letter-spacing: 1px\">\n",
       "        <textPath xlink:href=\"#arrow-82f8f21617254d718431dd34112a6144-0-4\" class=\"displacy-label\" startOffset=\"50%\" side=\"left\" fill=\"currentColor\" text-anchor=\"middle\">nsubj</textPath>\n",
       "    </text>\n",
       "    <path class=\"displacy-arrowhead\" d=\"M945,266.5 L937,254.5 953,254.5\" fill=\"currentColor\"/>\n",
       "</g>\n",
       "\n",
       "<g class=\"displacy-arrow\">\n",
       "    <path class=\"displacy-arc\" id=\"arrow-82f8f21617254d718431dd34112a6144-0-5\" stroke-width=\"2px\" d=\"M420,264.5 C420,2.0 1100.0,2.0 1100.0,264.5\" fill=\"none\" stroke=\"currentColor\"/>\n",
       "    <text dy=\"1.25em\" style=\"font-size: 0.8em; letter-spacing: 1px\">\n",
       "        <textPath xlink:href=\"#arrow-82f8f21617254d718431dd34112a6144-0-5\" class=\"displacy-label\" startOffset=\"50%\" side=\"left\" fill=\"currentColor\" text-anchor=\"middle\">ccomp</textPath>\n",
       "    </text>\n",
       "    <path class=\"displacy-arrowhead\" d=\"M1100.0,266.5 L1108.0,254.5 1092.0,254.5\" fill=\"currentColor\"/>\n",
       "</g>\n",
       "\n",
       "<g class=\"displacy-arrow\">\n",
       "    <path class=\"displacy-arc\" id=\"arrow-82f8f21617254d718431dd34112a6144-0-6\" stroke-width=\"2px\" d=\"M1120,264.5 C1120,177.0 1265.0,177.0 1265.0,264.5\" fill=\"none\" stroke=\"currentColor\"/>\n",
       "    <text dy=\"1.25em\" style=\"font-size: 0.8em; letter-spacing: 1px\">\n",
       "        <textPath xlink:href=\"#arrow-82f8f21617254d718431dd34112a6144-0-6\" class=\"displacy-label\" startOffset=\"50%\" side=\"left\" fill=\"currentColor\" text-anchor=\"middle\">acomp</textPath>\n",
       "    </text>\n",
       "    <path class=\"displacy-arrowhead\" d=\"M1265.0,266.5 L1273.0,254.5 1257.0,254.5\" fill=\"currentColor\"/>\n",
       "</g>\n",
       "</svg></span>"
      ],
      "text/plain": [
       "<IPython.core.display.HTML object>"
      ]
     },
     "metadata": {},
     "output_type": "display_data"
    }
   ],
   "source": [
    "doc = nlp(tweet)\n",
    "displacy.render(doc, style='dep')"
   ]
  },
  {
   "cell_type": "code",
   "execution_count": 435,
   "metadata": {
    "pycharm": {
     "name": "#%%\n"
    }
   },
   "outputs": [],
   "source": [
    "def get_pos_subjects(doc, pos_list, politicians):\n",
    "    verbs = { politician.num: [] for politician in politicians }\n",
    "    for possible_verb in doc:\n",
    "        if possible_verb.pos_ in pos_list:\n",
    "            found_child = False\n",
    "            children = possible_verb.children\n",
    "            for child in children:\n",
    "                match = match_politician(child.text, politicians)\n",
    "                if match is not None and child.dep_ == 'nsubj':\n",
    "                    verbs[match].append(possible_verb)\n",
    "                    traverse_subject_conjs(child, possible_verb, verbs, politicians)\n",
    "                    found_child = True\n",
    "            if not found_child:\n",
    "                traverse_up(possible_verb, possible_verb, verbs, politicians)\n",
    "    print(verbs)\n",
    "    \n",
    "def match_politician(text, politicians):\n",
    "    for politician in politicians:\n",
    "        split_name = politician.name.split()\n",
    "        if text in split_name:\n",
    "            return politician\n",
    "    return None\n",
    "\n",
    "def traverse_up(possible_verb, current, verbs, politicians):\n",
    "    head = current.head\n",
    "    if current == head:\n",
    "        return\n",
    "    children = head.children\n",
    "    for child in children:\n",
    "        match = match_politician(child.text, politicians)\n",
    "        if match is not None and child.dep_ == 'nsubj':\n",
    "            verbs[match.num].append(possible_verb)\n",
    "            traverse_subject_conjs(child, possible_verb, verbs, politicians)\n",
    "    traverse_up(possible_verb, head, verbs, politicians)\n",
    "    \n",
    "    \n",
    "def traverse_subject_conjs(subj, possible_verb, verbs, politicians):\n",
    "    children = subj.children\n",
    "    for child in children:\n",
    "        if child.dep_ == 'conj':\n",
    "            match = match_politician(child.text, politicians)\n",
    "            if match is not None:\n",
    "                verbs[match.num].append(possible_verb)\n",
    "                traverse_subject_conjs(child, possible_verb, verbs, politicians)"
   ]
  },
  {
   "cell_type": "code",
   "execution_count": 436,
   "metadata": {
    "pycharm": {
     "name": "#%%\n"
    }
   },
   "outputs": [
    {
     "name": "stdout",
     "output_type": "stream",
     "text": [
      "{1: [shit, compared], 2: []}\n"
     ]
    }
   ],
   "source": [
    "politician_names = list(map(lambda x: x.name, politicians))\n",
    "get_pos_subjects(doc, ['VERB', 'ADJ', 'NOUN'], politicians)"
   ]
  },
  {
   "cell_type": "code",
   "execution_count": 296,
   "metadata": {},
   "outputs": [],
   "source": []
  }
 ],
 "metadata": {
  "kernelspec": {
   "display_name": "Python 3",
   "language": "python",
   "name": "python3"
  },
  "language_info": {
   "codemirror_mode": {
    "name": "ipython",
    "version": 3
   },
   "file_extension": ".py",
   "mimetype": "text/x-python",
   "name": "python",
   "nbconvert_exporter": "python",
   "pygments_lexer": "ipython3",
   "version": "3.7.7"
  },
  "pycharm": {
   "stem_cell": {
    "cell_type": "raw",
    "metadata": {
     "collapsed": false
    },
    "source": []
   }
  }
 },
 "nbformat": 4,
 "nbformat_minor": 1
}
