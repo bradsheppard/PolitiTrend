{
 "cells": [
  {
   "cell_type": "markdown",
   "metadata": {
    "collapsed": true
   },
   "source": [
    "## Sentiment Analyzer Testing"
   ]
  },
  {
   "cell_type": "code",
   "execution_count": 15,
   "metadata": {},
   "outputs": [],
   "source": [
    "import spacy\n",
    "from spacy import displacy\n",
    "from typing import List, Dict, Union\n",
    "from attr import dataclass\n",
    "from vaderSentiment.vaderSentiment import SentimentIntensityAnalyzer"
   ]
  },
  {
   "cell_type": "code",
   "execution_count": 16,
   "metadata": {},
   "outputs": [],
   "source": [
    "sentiment_analyzer = SentimentIntensityAnalyzer()\n",
    "nlp = spacy.load('en')\n",
    "\n",
    "class Politician:\n",
    "\n",
    "    def __init__(self, num, name):\n",
    "        self.num = num\n",
    "        self.name = name\n",
    "        \n",
    "@dataclass\n",
    "class SentenceSubjectResult:\n",
    "    sentiment: float\n",
    "    subject: Politician\n",
    "    pos: str\n",
    "        \n",
    "@dataclass\n",
    "class AnalysisResult:\n",
    "    politician: int\n",
    "    sentiment: float\n",
    "\n",
    "def get_entity_sentiments(statement: str, subjects: List[Politician] = None) -> Dict[int, float]:\n",
    "    subject_results = {}\n",
    "\n",
    "    sentences_subject_results: Dict[int, Dict[Politician, SentenceSubjectResult]] = {}\n",
    "    doc = nlp(statement)\n",
    "    for token in doc:\n",
    "        politician = _lookup_subject(subjects, token.text)\n",
    "        if politician is None:\n",
    "            continue\n",
    "        score = sentiment_analyzer.polarity_scores(token.sent.text)['compound']\n",
    "\n",
    "        subject_result = SentenceSubjectResult(sentiment=score, subject=politician, pos=token.dep_)\n",
    "        if token.sent.start not in sentences_subject_results:\n",
    "            sentences_subject_results[token.sent.start] = {}\n",
    "        sentences_subject_results[token.sent.start][politician] = subject_result\n",
    "\n",
    "    for sentence_subject_results in sentences_subject_results.values():\n",
    "        if len(sentence_subject_results.keys()) == 0:\n",
    "            continue\n",
    "        elif len(sentence_subject_results.keys()) == 1:\n",
    "            key = list(sentence_subject_results.keys())[0]\n",
    "            subject_results[sentence_subject_results[key].subject.num] = \\\n",
    "                sentence_subject_results[key].sentiment\n",
    "            continue\n",
    "        for politician in sentence_subject_results.keys():\n",
    "            subject_result = sentence_subject_results[politician]\n",
    "            if subject_result.pos == 'nsubj' or subject_result.pos == 'compound':\n",
    "                continue\n",
    "            subject_results[subject_result.subject.num] = subject_result.sentiment\n",
    "\n",
    "    return subject_results\n",
    "\n",
    "def _lookup_subject(subjects: List[Politician], sentence_subject: str) -> Union[Politician, None]:\n",
    "    if subjects is None:\n",
    "        return None\n",
    "\n",
    "    for subject in subjects:\n",
    "        subject_words = subject.name.split()\n",
    "        for subject_word in subject_words:\n",
    "            if sentence_subject.lower() == subject_word.lower():\n",
    "                return subject\n",
    "    return None\n"
   ]
  },
  {
   "cell_type": "code",
   "execution_count": 422,
   "metadata": {},
   "outputs": [],
   "source": [
    "politicians = [\n",
    "    Politician(1, 'Donald Trump'),\n",
    "    Politician(2, 'Bernie Sanders')\n",
    "]"
   ]
  },
  {
   "cell_type": "code",
   "execution_count": 410,
   "metadata": {},
   "outputs": [],
   "source": [
    "# tweet = 'When Trump accuses Bernie Sanders of Murder Trump is actually admitting he’s a murderer'\n",
    "tweet = 'Donald Trump is shit compared to Bernie Sanders'\n",
    "result = get_entity_sentiments(tweet, politicians)"
   ]
  },
  {
   "cell_type": "code",
   "execution_count": 411,
   "metadata": {},
   "outputs": [
    {
     "data": {
      "text/plain": [
       "{2: -0.5574}"
      ]
     },
     "execution_count": 411,
     "metadata": {},
     "output_type": "execute_result"
    }
   ],
   "source": [
    "result"
   ]
  },
  {
   "cell_type": "code",
   "execution_count": 412,
   "metadata": {},
   "outputs": [
    {
     "data": {
      "text/html": [
       "<span class=\"tex2jax_ignore\"><svg xmlns=\"http://www.w3.org/2000/svg\" xmlns:xlink=\"http://www.w3.org/1999/xlink\" xml:lang=\"en\" id=\"3f72ec0950744ced8feefe1159eaa91a-0\" class=\"displacy\" width=\"1450\" height=\"312.0\" direction=\"ltr\" style=\"max-width: none; height: 312.0px; color: #000000; background: #ffffff; font-family: Arial; direction: ltr\">\n",
       "<text class=\"displacy-token\" fill=\"currentColor\" text-anchor=\"middle\" y=\"222.0\">\n",
       "    <tspan class=\"displacy-word\" fill=\"currentColor\" x=\"50\">Donald</tspan>\n",
       "    <tspan class=\"displacy-tag\" dy=\"2em\" fill=\"currentColor\" x=\"50\">PROPN</tspan>\n",
       "</text>\n",
       "\n",
       "<text class=\"displacy-token\" fill=\"currentColor\" text-anchor=\"middle\" y=\"222.0\">\n",
       "    <tspan class=\"displacy-word\" fill=\"currentColor\" x=\"225\">Trump</tspan>\n",
       "    <tspan class=\"displacy-tag\" dy=\"2em\" fill=\"currentColor\" x=\"225\">PROPN</tspan>\n",
       "</text>\n",
       "\n",
       "<text class=\"displacy-token\" fill=\"currentColor\" text-anchor=\"middle\" y=\"222.0\">\n",
       "    <tspan class=\"displacy-word\" fill=\"currentColor\" x=\"400\">is</tspan>\n",
       "    <tspan class=\"displacy-tag\" dy=\"2em\" fill=\"currentColor\" x=\"400\">AUX</tspan>\n",
       "</text>\n",
       "\n",
       "<text class=\"displacy-token\" fill=\"currentColor\" text-anchor=\"middle\" y=\"222.0\">\n",
       "    <tspan class=\"displacy-word\" fill=\"currentColor\" x=\"575\">shit</tspan>\n",
       "    <tspan class=\"displacy-tag\" dy=\"2em\" fill=\"currentColor\" x=\"575\">NOUN</tspan>\n",
       "</text>\n",
       "\n",
       "<text class=\"displacy-token\" fill=\"currentColor\" text-anchor=\"middle\" y=\"222.0\">\n",
       "    <tspan class=\"displacy-word\" fill=\"currentColor\" x=\"750\">compared</tspan>\n",
       "    <tspan class=\"displacy-tag\" dy=\"2em\" fill=\"currentColor\" x=\"750\">VERB</tspan>\n",
       "</text>\n",
       "\n",
       "<text class=\"displacy-token\" fill=\"currentColor\" text-anchor=\"middle\" y=\"222.0\">\n",
       "    <tspan class=\"displacy-word\" fill=\"currentColor\" x=\"925\">to</tspan>\n",
       "    <tspan class=\"displacy-tag\" dy=\"2em\" fill=\"currentColor\" x=\"925\">ADP</tspan>\n",
       "</text>\n",
       "\n",
       "<text class=\"displacy-token\" fill=\"currentColor\" text-anchor=\"middle\" y=\"222.0\">\n",
       "    <tspan class=\"displacy-word\" fill=\"currentColor\" x=\"1100\">Bernie</tspan>\n",
       "    <tspan class=\"displacy-tag\" dy=\"2em\" fill=\"currentColor\" x=\"1100\">PROPN</tspan>\n",
       "</text>\n",
       "\n",
       "<text class=\"displacy-token\" fill=\"currentColor\" text-anchor=\"middle\" y=\"222.0\">\n",
       "    <tspan class=\"displacy-word\" fill=\"currentColor\" x=\"1275\">Sanders</tspan>\n",
       "    <tspan class=\"displacy-tag\" dy=\"2em\" fill=\"currentColor\" x=\"1275\">PROPN</tspan>\n",
       "</text>\n",
       "\n",
       "<g class=\"displacy-arrow\">\n",
       "    <path class=\"displacy-arc\" id=\"arrow-3f72ec0950744ced8feefe1159eaa91a-0-0\" stroke-width=\"2px\" d=\"M70,177.0 C70,89.5 220.0,89.5 220.0,177.0\" fill=\"none\" stroke=\"currentColor\"/>\n",
       "    <text dy=\"1.25em\" style=\"font-size: 0.8em; letter-spacing: 1px\">\n",
       "        <textPath xlink:href=\"#arrow-3f72ec0950744ced8feefe1159eaa91a-0-0\" class=\"displacy-label\" startOffset=\"50%\" side=\"left\" fill=\"currentColor\" text-anchor=\"middle\">compound</textPath>\n",
       "    </text>\n",
       "    <path class=\"displacy-arrowhead\" d=\"M70,179.0 L62,167.0 78,167.0\" fill=\"currentColor\"/>\n",
       "</g>\n",
       "\n",
       "<g class=\"displacy-arrow\">\n",
       "    <path class=\"displacy-arc\" id=\"arrow-3f72ec0950744ced8feefe1159eaa91a-0-1\" stroke-width=\"2px\" d=\"M245,177.0 C245,89.5 395.0,89.5 395.0,177.0\" fill=\"none\" stroke=\"currentColor\"/>\n",
       "    <text dy=\"1.25em\" style=\"font-size: 0.8em; letter-spacing: 1px\">\n",
       "        <textPath xlink:href=\"#arrow-3f72ec0950744ced8feefe1159eaa91a-0-1\" class=\"displacy-label\" startOffset=\"50%\" side=\"left\" fill=\"currentColor\" text-anchor=\"middle\">nsubj</textPath>\n",
       "    </text>\n",
       "    <path class=\"displacy-arrowhead\" d=\"M245,179.0 L237,167.0 253,167.0\" fill=\"currentColor\"/>\n",
       "</g>\n",
       "\n",
       "<g class=\"displacy-arrow\">\n",
       "    <path class=\"displacy-arc\" id=\"arrow-3f72ec0950744ced8feefe1159eaa91a-0-2\" stroke-width=\"2px\" d=\"M420,177.0 C420,89.5 570.0,89.5 570.0,177.0\" fill=\"none\" stroke=\"currentColor\"/>\n",
       "    <text dy=\"1.25em\" style=\"font-size: 0.8em; letter-spacing: 1px\">\n",
       "        <textPath xlink:href=\"#arrow-3f72ec0950744ced8feefe1159eaa91a-0-2\" class=\"displacy-label\" startOffset=\"50%\" side=\"left\" fill=\"currentColor\" text-anchor=\"middle\">attr</textPath>\n",
       "    </text>\n",
       "    <path class=\"displacy-arrowhead\" d=\"M570.0,179.0 L578.0,167.0 562.0,167.0\" fill=\"currentColor\"/>\n",
       "</g>\n",
       "\n",
       "<g class=\"displacy-arrow\">\n",
       "    <path class=\"displacy-arc\" id=\"arrow-3f72ec0950744ced8feefe1159eaa91a-0-3\" stroke-width=\"2px\" d=\"M420,177.0 C420,2.0 750.0,2.0 750.0,177.0\" fill=\"none\" stroke=\"currentColor\"/>\n",
       "    <text dy=\"1.25em\" style=\"font-size: 0.8em; letter-spacing: 1px\">\n",
       "        <textPath xlink:href=\"#arrow-3f72ec0950744ced8feefe1159eaa91a-0-3\" class=\"displacy-label\" startOffset=\"50%\" side=\"left\" fill=\"currentColor\" text-anchor=\"middle\">prep</textPath>\n",
       "    </text>\n",
       "    <path class=\"displacy-arrowhead\" d=\"M750.0,179.0 L758.0,167.0 742.0,167.0\" fill=\"currentColor\"/>\n",
       "</g>\n",
       "\n",
       "<g class=\"displacy-arrow\">\n",
       "    <path class=\"displacy-arc\" id=\"arrow-3f72ec0950744ced8feefe1159eaa91a-0-4\" stroke-width=\"2px\" d=\"M770,177.0 C770,89.5 920.0,89.5 920.0,177.0\" fill=\"none\" stroke=\"currentColor\"/>\n",
       "    <text dy=\"1.25em\" style=\"font-size: 0.8em; letter-spacing: 1px\">\n",
       "        <textPath xlink:href=\"#arrow-3f72ec0950744ced8feefe1159eaa91a-0-4\" class=\"displacy-label\" startOffset=\"50%\" side=\"left\" fill=\"currentColor\" text-anchor=\"middle\">prep</textPath>\n",
       "    </text>\n",
       "    <path class=\"displacy-arrowhead\" d=\"M920.0,179.0 L928.0,167.0 912.0,167.0\" fill=\"currentColor\"/>\n",
       "</g>\n",
       "\n",
       "<g class=\"displacy-arrow\">\n",
       "    <path class=\"displacy-arc\" id=\"arrow-3f72ec0950744ced8feefe1159eaa91a-0-5\" stroke-width=\"2px\" d=\"M1120,177.0 C1120,89.5 1270.0,89.5 1270.0,177.0\" fill=\"none\" stroke=\"currentColor\"/>\n",
       "    <text dy=\"1.25em\" style=\"font-size: 0.8em; letter-spacing: 1px\">\n",
       "        <textPath xlink:href=\"#arrow-3f72ec0950744ced8feefe1159eaa91a-0-5\" class=\"displacy-label\" startOffset=\"50%\" side=\"left\" fill=\"currentColor\" text-anchor=\"middle\">compound</textPath>\n",
       "    </text>\n",
       "    <path class=\"displacy-arrowhead\" d=\"M1120,179.0 L1112,167.0 1128,167.0\" fill=\"currentColor\"/>\n",
       "</g>\n",
       "\n",
       "<g class=\"displacy-arrow\">\n",
       "    <path class=\"displacy-arc\" id=\"arrow-3f72ec0950744ced8feefe1159eaa91a-0-6\" stroke-width=\"2px\" d=\"M945,177.0 C945,2.0 1275.0,2.0 1275.0,177.0\" fill=\"none\" stroke=\"currentColor\"/>\n",
       "    <text dy=\"1.25em\" style=\"font-size: 0.8em; letter-spacing: 1px\">\n",
       "        <textPath xlink:href=\"#arrow-3f72ec0950744ced8feefe1159eaa91a-0-6\" class=\"displacy-label\" startOffset=\"50%\" side=\"left\" fill=\"currentColor\" text-anchor=\"middle\">pobj</textPath>\n",
       "    </text>\n",
       "    <path class=\"displacy-arrowhead\" d=\"M1275.0,179.0 L1283.0,167.0 1267.0,167.0\" fill=\"currentColor\"/>\n",
       "</g>\n",
       "</svg></span>"
      ],
      "text/plain": [
       "<IPython.core.display.HTML object>"
      ]
     },
     "metadata": {},
     "output_type": "display_data"
    }
   ],
   "source": [
    "doc = nlp(tweet)\n",
    "displacy.render(doc, style='dep')"
   ]
  },
  {
   "cell_type": "code",
   "execution_count": 413,
   "metadata": {
    "pycharm": {
     "name": "#%%\n"
    }
   },
   "outputs": [],
   "source": [
    "def get_pos_subjects(doc, pos_list, politicians):\n",
    "    verbs = { politician: [] for politician in politicians }\n",
    "    for possible_verb in doc:\n",
    "        if possible_verb.pos_ in pos_list:\n",
    "            found_child = False\n",
    "            children = possible_verb.children\n",
    "            for child in children:\n",
    "                match = match_politician(child.text, politicians)\n",
    "                if match is not None and child.dep_ == 'nsubj':\n",
    "                    verbs[match].append(possible_verb)\n",
    "                    traverse_subject_conjs(child, possible_verb, verbs, politicians)\n",
    "                    found_child = True\n",
    "            if not found_child:\n",
    "                traverse_up(possible_verb, possible_verb, verbs, politicians)\n",
    "    print(verbs)\n",
    "    \n",
    "def match_politician(text, politicians):\n",
    "    for politician in politicians:\n",
    "        split_name = politician.split()\n",
    "        if text in split_name:\n",
    "            return politician\n",
    "    return None\n",
    "\n",
    "def traverse_up(possible_verb, current, verbs, politicians):\n",
    "    head = current.head\n",
    "    if current == head:\n",
    "        return\n",
    "    children = head.children\n",
    "    for child in children:\n",
    "        match = match_politician(child.text, politicians)\n",
    "        if match is not None and child.dep_ == 'nsubj':\n",
    "            verbs[match].append(possible_verb)\n",
    "            traverse_subject_conjs(child, possible_verb, verbs, politicians)\n",
    "    traverse_up(possible_verb, head, verbs, politicians)\n",
    "    \n",
    "    \n",
    "def traverse_subject_conjs(subj, possible_verb, verbs, politicians):\n",
    "    children = subj.children\n",
    "    for child in children:\n",
    "        if child.dep_ == 'conj':\n",
    "            match = match_politician(child.text, politicians)\n",
    "            if match is not None:\n",
    "                verbs[match].append(possible_verb)\n",
    "                traverse_subject_conjs(child, possible_verb, verbs, politicians)"
   ]
  },
  {
   "cell_type": "code",
   "execution_count": 423,
   "metadata": {
    "pycharm": {
     "name": "#%%\n"
    }
   },
   "outputs": [
    {
     "name": "stdout",
     "output_type": "stream",
     "text": [
      "{'Donald Trump': [shit, compared], 'Bernie Sanders': []}\n"
     ]
    }
   ],
   "source": [
    "politician_names = list(map(lambda x: x.name, politicians))\n",
    "get_pos_subjects(doc, ['VERB', 'ADJ', 'NOUN'], politician_names)"
   ]
  },
  {
   "cell_type": "code",
   "execution_count": 296,
   "metadata": {},
   "outputs": [],
   "source": []
  }
 ],
 "metadata": {
  "kernelspec": {
   "display_name": "Python 3",
   "language": "python",
   "name": "python3"
  },
  "language_info": {
   "codemirror_mode": {
    "name": "ipython",
    "version": 3
   },
   "file_extension": ".py",
   "mimetype": "text/x-python",
   "name": "python",
   "nbconvert_exporter": "python",
   "pygments_lexer": "ipython3",
   "version": "3.7.7"
  },
  "pycharm": {
   "stem_cell": {
    "cell_type": "raw",
    "metadata": {
     "collapsed": false
    },
    "source": []
   }
  }
 },
 "nbformat": 4,
 "nbformat_minor": 1
}
